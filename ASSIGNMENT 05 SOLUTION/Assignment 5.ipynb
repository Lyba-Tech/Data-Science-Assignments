{
 "cells": [
  {
   "cell_type": "markdown",
   "id": "1b117bc9",
   "metadata": {},
   "source": [
    "# Assignment 5 Solution\n",
    "## Question 1\n",
    "### Display the given pattern by using python script?"
   ]
  },
  {
   "cell_type": "code",
   "execution_count": 5,
   "id": "b67302f8",
   "metadata": {},
   "outputs": [
    {
     "name": "stdout",
     "output_type": "stream",
     "text": [
      "1234567\n",
      "123456\n",
      "12345\n",
      "1234\n",
      "123\n",
      "12\n",
      "1\n"
     ]
    }
   ],
   "source": [
    "for i in range(7, 0 , -1):\n",
    "    pattern = \"\"\n",
    "    for j in range(1,i+1):\n",
    "        pattern += str(j)\n",
    "    print(pattern)"
   ]
  },
  {
   "cell_type": "markdown",
   "id": "5608917c",
   "metadata": {},
   "source": [
    "## Question 2\n",
    "####  Write python script to print the total number of same elements of two lists"
   ]
  },
  {
   "cell_type": "code",
   "execution_count": 6,
   "id": "f3bcb14d",
   "metadata": {},
   "outputs": [
    {
     "name": "stdout",
     "output_type": "stream",
     "text": [
      "The total number of same elements are : 3{4, 5, 6}\n"
     ]
    }
   ],
   "source": [
    "# Define list\n",
    "list1 = [1, 2, 3, 4, 5, 6]\n",
    "list2 = [4, 5, 6, 7, 8, 9]\n",
    "\n",
    "# Convert list into set\n",
    "set1=set(list1)\n",
    "set2=set(list2)\n",
    "\n",
    "# Find the intersection of two sets\n",
    "same_elements = set1.intersection(set2)\n",
    "\n",
    "#print the result\n",
    "print(f\"The total number of same elements are : {len(same_elements)}{same_elements}\")\n"
   ]
  },
  {
   "cell_type": "markdown",
   "id": "a8f2219c",
   "metadata": {},
   "source": [
    "## Question 3\n",
    "### Implement a simple calculator program that performs arithmetic operations based on user input.\n",
    "#### Note: If user input addition or + then it performs addition operation, same as it is for other operations"
   ]
  },
  {
   "cell_type": "code",
   "execution_count": 9,
   "id": "c694321e",
   "metadata": {},
   "outputs": [
    {
     "name": "stdout",
     "output_type": "stream",
     "text": [
      "Enter first number: 1\n",
      "Enter second number: 4\n",
      "Enter operation (+, -, *, /): +\n",
      "Result: 5.0\n"
     ]
    }
   ],
   "source": [
    "def calculator():\n",
    "   \n",
    "    num1 = float(input(\"Enter first number: \"))\n",
    "    num2 = float(input(\"Enter second number: \"))\n",
    "    operation = input(\"Enter operation (+, -, *, /): \")\n",
    "\n",
    "    if operation == \"+\":\n",
    "        result = num1 + num2\n",
    "    elif operation == \"-\":\n",
    "        result = num1 - num2\n",
    "    elif operation == \"*\":\n",
    "        result = num1 * num2\n",
    "    elif operation == \"/\":\n",
    "        result = num1 / num2\n",
    "    else:\n",
    "        return \"Invalid operation\"\n",
    "    \n",
    "    return result\n",
    "\n",
    "print(\"Result:\", calculator())"
   ]
  },
  {
   "cell_type": "markdown",
   "id": "cdd9d6c0",
   "metadata": {},
   "source": [
    "## Question 4\n",
    "#### Write a python script that input a text statement from the user and check how many times a particular character is repeated in the text?"
   ]
  },
  {
   "cell_type": "code",
   "execution_count": 10,
   "id": "fbc4cf13",
   "metadata": {},
   "outputs": [
    {
     "name": "stdout",
     "output_type": "stream",
     "text": [
      "Enter a text statement: Hello I am Laiba\n",
      "Enter a character to check: o\n",
      "The character 'o' is repeated 1 times in the text.\n"
     ]
    }
   ],
   "source": [
    "text = input(\"Enter a text statement: \")\n",
    "char = input(\"Enter a character to check: \")\n",
    "count = text.count(char)\n",
    "print(f\"The character '{char}' is repeated {count} times in the text.\")\n"
   ]
  },
  {
   "cell_type": "markdown",
   "id": "4834c8e4",
   "metadata": {},
   "source": [
    "## Question 5\n",
    "###  Function (positional argument & keyword argument):\n",
    "#### a) Write a function that calculates the area of a rectangle given its length and width as positional arguments."
   ]
  },
  {
   "cell_type": "code",
   "execution_count": 11,
   "id": "2ae46611",
   "metadata": {},
   "outputs": [
    {
     "name": "stdout",
     "output_type": "stream",
     "text": [
      "Area of rectangle: 15\n"
     ]
    }
   ],
   "source": [
    "def area_of_rectangle(length, width):\n",
    "    return length * width\n",
    "\n",
    "print(\"Area of rectangle:\", area_of_rectangle(5, 3))"
   ]
  },
  {
   "cell_type": "markdown",
   "id": "c7fb639d",
   "metadata": {},
   "source": [
    "#### b) Create a function that prints a person's details (name, age, address) using keyword arguments."
   ]
  },
  {
   "cell_type": "code",
   "execution_count": 14,
   "id": "9879c783",
   "metadata": {},
   "outputs": [
    {
     "name": "stdout",
     "output_type": "stream",
     "text": [
      "Name: Laiba Rao\n",
      "Age: 21\n",
      "Address: Multan , Pakistan\n"
     ]
    }
   ],
   "source": [
    "def person_details(name, age, address):\n",
    "    print(f\"Name: {name}\")\n",
    "    print(f\"Age: {age}\")\n",
    "    print(f\"Address: {address}\")\n",
    "\n",
    "person_details(name=\"Laiba Rao\", age=21, address=\"Multan , Pakistan\")"
   ]
  },
  {
   "cell_type": "markdown",
   "id": "f9e59267",
   "metadata": {},
   "source": [
    "## Question 6\n",
    "### Lambda Function\n",
    "#### Implement a program that uses a lambda function to find the square of given root"
   ]
  },
  {
   "cell_type": "code",
   "execution_count": 15,
   "id": "2e298e93",
   "metadata": {},
   "outputs": [
    {
     "name": "stdout",
     "output_type": "stream",
     "text": [
      "Enter a number : 4\n",
      "The square of 4.0 is 16.0\n"
     ]
    }
   ],
   "source": [
    "#define lambda function to find the square of number\n",
    "square = lambda x: x ** 2\n",
    "\n",
    "#input the number for user\n",
    "number = float(input(\"Enter a number : \"))\n",
    "\n",
    "#calculate the square using lambda\n",
    "result = square (number)\n",
    "\n",
    "#display result\n",
    "print(f\"The square of {number} is {result}\")"
   ]
  },
  {
   "cell_type": "markdown",
   "id": "dd2721d1",
   "metadata": {},
   "source": [
    "#### b) Write a program that sorts a list of strings based on the length of each string using a lambda function."
   ]
  },
  {
   "cell_type": "code",
   "execution_count": 16,
   "id": "21e67be6",
   "metadata": {},
   "outputs": [
    {
     "name": "stdout",
     "output_type": "stream",
     "text": [
      "['Laiba', 'Zakia', 'Faiqa', 'Maryum']\n"
     ]
    }
   ],
   "source": [
    "strings_list = [\"Laiba\", \"Zakia\", \"Maryum\", \"Faiqa\"]\n",
    "#use lambda function as a key parameter\n",
    "sorted_list = sorted(strings_list, key=lambda x: len(x))\n",
    "print(sorted_list)"
   ]
  },
  {
   "cell_type": "markdown",
   "id": "22cbacbf",
   "metadata": {},
   "source": [
    "## Question 7\n",
    "### Filter, Map, and Reduce\n",
    "#### a) Create a program that takes a list of strings as input and performs the following operations:\n"
   ]
  },
  {
   "cell_type": "code",
   "execution_count": 20,
   "id": "20bbf6f6",
   "metadata": {},
   "outputs": [],
   "source": [
    "strings = [\"Laiba\", \"Faiqa\", \"Saba\", \"Noor\", \"Haya\"]"
   ]
  },
  {
   "cell_type": "markdown",
   "id": "58805532",
   "metadata": {},
   "source": [
    "#### b) Use filter() and a lambda function to filter out strings with a length less than 5.\n"
   ]
  },
  {
   "cell_type": "code",
   "execution_count": 21,
   "id": "ab4cb8fc",
   "metadata": {},
   "outputs": [
    {
     "name": "stdout",
     "output_type": "stream",
     "text": [
      "String with a length less then 5: \n",
      "Laiba\n",
      "Faiqa\n"
     ]
    }
   ],
   "source": [
    "filtered_strings = list(filter(lambda x: len(x) >= 5, strings))\n",
    "print(\"String with a length less then 5: \")\n",
    "for string in filtered_strings:\n",
    "    print(string)"
   ]
  },
  {
   "cell_type": "markdown",
   "id": "ce7792b3",
   "metadata": {},
   "source": [
    "#### c) Use map() and a lambda function to convert the filtered strings to uppercase."
   ]
  },
  {
   "cell_type": "code",
   "execution_count": 30,
   "id": "b0f65851",
   "metadata": {},
   "outputs": [
    {
     "name": "stdout",
     "output_type": "stream",
     "text": [
      "['LAIBA', 'FAIQA']\n"
     ]
    }
   ],
   "source": [
    "uppercase_strings = list(map(lambda x: x.upper(), filtered_strings))\n",
    "\n",
    "#print uppercase strings\n",
    "print(uppercase_strings)\n"
   ]
  },
  {
   "cell_type": "markdown",
   "id": "f5fe4202",
   "metadata": {},
   "source": [
    "#### d) Use reduce() to concatenate the uppercase strings into a single string."
   ]
  },
  {
   "cell_type": "code",
   "execution_count": 32,
   "id": "bd5f2087",
   "metadata": {},
   "outputs": [
    {
     "name": "stdout",
     "output_type": "stream",
     "text": [
      "LAIBAFAIQA\n"
     ]
    }
   ],
   "source": [
    "from functools import reduce\n",
    "concatenated_string = reduce(lambda x, y: x + y, uppercase_strings)\n",
    "print(concatenated_string)"
   ]
  },
  {
   "cell_type": "markdown",
   "id": "858454c2",
   "metadata": {},
   "source": [
    "#### e) Write a program that reads a list of floating-point numbers from the user and uses map() to round each number to two decimal places. Then, use reduce() to find the sum of the rounded numbers."
   ]
  },
  {
   "cell_type": "code",
   "execution_count": 37,
   "id": "0856b27f",
   "metadata": {},
   "outputs": [
    {
     "name": "stdout",
     "output_type": "stream",
     "text": [
      "Enter floating-point numbers separated by space: 1.234 5.890 7.477\n",
      "Rounded numbers: [1.23, 5.89, 7.48]\n",
      "Sum of rounded numbers: 14.6\n"
     ]
    }
   ],
   "source": [
    "from functools import reduce\n",
    "\n",
    "# Read a list of floating-point numbers from the user\n",
    "numbers = input(\"Enter floating-point numbers separated by space: \").split()\n",
    "numbers = list(map(float, numbers))\n",
    "\n",
    "# Use map() to round each number to two decimal places\n",
    "rounded_numbers = list(map(lambda x: round(x, 2), numbers))\n",
    "print(\"Rounded numbers:\", rounded_numbers)\n",
    "\n",
    "# Use reduce() to find the sum of rounded numbers\n",
    "sum_of_numbers = reduce(lambda x, y: x + y, rounded_numbers)\n",
    "print(\"Sum of rounded numbers:\", sum_of_numbers)\n",
    "\n",
    "# Example Output:\n",
    "# Enter floating-point numbers separated by space: 1.234 5.678 9.012\n",
    "# Rounded numbers: [1.23, 5.68, 9.01]\n",
    "# Sum of rounded numbers: 15.92\n"
   ]
  },
  {
   "cell_type": "markdown",
   "id": "bfc5423d",
   "metadata": {},
   "source": [
    "#### f) List of words, use filter() and map() to create a new list that contains the lengths of words that have more than three characters.\n"
   ]
  },
  {
   "cell_type": "code",
   "execution_count": 41,
   "id": "6a96bee5",
   "metadata": {},
   "outputs": [
    {
     "name": "stdout",
     "output_type": "stream",
     "text": [
      "['lion', 'tiger', 'elephant']\n"
     ]
    }
   ],
   "source": [
    "words = [\"cat\", \"lion\", \"tiger\", \"elephant\", \"dog\"]\n",
    "filtered_words = list(filter(lambda x: len(x)>3, words))\n",
    "print(filtered_words)\n"
   ]
  },
  {
   "cell_type": "markdown",
   "id": "7771ad42",
   "metadata": {},
   "source": [
    "## Quesstion 8\n",
    "### Coffee Machine "
   ]
  },
  {
   "cell_type": "code",
   "execution_count": 44,
   "id": "904733e2",
   "metadata": {},
   "outputs": [
    {
     "name": "stdout",
     "output_type": "stream",
     "text": [
      "What would you like? (espresso/latte/cappuccino): report\n",
      "Water: 300ml\n",
      "Milk: 200ml\n",
      "Coffee: 100g\n",
      "Money: $0\n",
      "What would you like? (espresso/latte/cappuccino): espresso\n",
      "Please insert coins.\n",
      "How many quarters? 6\n",
      "How many dimes? 0\n",
      "How many nickels? 0\n",
      "How many pennies? 0\n",
      "Here is $0.0 in change.\n",
      "Here is your espresso. Enjoy!\n",
      "What would you like? (espresso/latte/cappuccino): latte\n",
      "Please insert coins.\n",
      "How many quarters? 6\n",
      "How many dimes? 0\n",
      "How many nickels? 0\n",
      "How many pennies? 0\n",
      "Sorry that's not enough money. Money refunded.\n",
      "What would you like? (espresso/latte/cappuccino): cappuccino\n",
      "Please insert coins.\n",
      "How many quarters? 12\n",
      "How many dimes? 0\n",
      "How many nickels? 0\n",
      "How many pennies? 0\n",
      "Here is $0.0 in change.\n",
      "Here is your cappuccino. Enjoy!\n",
      "What would you like? (espresso/latte/cappuccino): off\n"
     ]
    }
   ],
   "source": [
    "# Coffee Machine Program\n",
    "\n",
    "# Initial resources in the coffee machine\n",
    "resources = {\n",
    "    \"water\": 300,\n",
    "    \"milk\": 200,\n",
    "    \"coffee\": 100,\n",
    "    \"money\": 0\n",
    "}\n",
    "\n",
    "# Menu with the available drinks and their costs\n",
    "menu = {\n",
    "    \"espresso\": {\"ingredients\": {\"water\": 50, \"coffee\": 18}, \"cost\": 1.5},\n",
    "    \"latte\": {\"ingredients\": {\"water\": 200, \"milk\": 150, \"coffee\": 24}, \"cost\": 2.5},\n",
    "    \"cappuccino\": {\"ingredients\": {\"water\": 250, \"milk\": 100, \"coffee\": 24}, \"cost\": 3.0}\n",
    "}\n",
    "\n",
    "# Function to print the current report of resources\n",
    "def print_report():\n",
    "    print(f\"Water: {resources['water']}ml\")\n",
    "    print(f\"Milk: {resources['milk']}ml\")\n",
    "    print(f\"Coffee: {resources['coffee']}g\")\n",
    "    print(f\"Money: ${resources['money']}\")\n",
    "\n",
    "# Function to check if there are enough resources to make the drink\n",
    "def is_resources_sufficient(order_ingredients):\n",
    "    for item in order_ingredients:\n",
    "        if order_ingredients[item] > resources[item]:\n",
    "            print(f\"Sorry there is not enough {item}.\")\n",
    "            return False\n",
    "    return True\n",
    "\n",
    "# Function to process the coins and calculate the total money inserted\n",
    "def process_coins():\n",
    "    print(\"Please insert coins.\")\n",
    "    total = int(input(\"How many quarters? \")) * 0.25\n",
    "    total += int(input(\"How many dimes? \")) * 0.10\n",
    "    total += int(input(\"How many nickels? \")) * 0.05\n",
    "    total += int(input(\"How many pennies? \")) * 0.01\n",
    "    return total\n",
    "\n",
    "# Function to check if the transaction was successful\n",
    "def is_transaction_successful(money_received, drink_cost):\n",
    "    if money_received >= drink_cost:\n",
    "        change = round(money_received - drink_cost, 2)\n",
    "        print(f\"Here is ${change} in change.\")\n",
    "        resources[\"money\"] += drink_cost\n",
    "        return True\n",
    "    else:\n",
    "        print(\"Sorry that's not enough money. Money refunded.\")\n",
    "        return False\n",
    "\n",
    "# Function to make the coffee and deduct the resources\n",
    "def make_coffee(drink_name, order_ingredients):\n",
    "    for item in order_ingredients:\n",
    "        resources[item] -= order_ingredients[item]\n",
    "    print(f\"Here is your {drink_name}. Enjoy!\")\n",
    "\n",
    "# Main program loop\n",
    "is_on = True\n",
    "\n",
    "while is_on:\n",
    "    choice = input(\"What would you like? (espresso/latte/cappuccino): \").lower()\n",
    "    \n",
    "    if choice == \"off\":\n",
    "        is_on = False\n",
    "    elif choice == \"report\":\n",
    "        print_report()\n",
    "    elif choice in menu:\n",
    "        drink = menu[choice]\n",
    "        if is_resources_sufficient(drink[\"ingredients\"]):\n",
    "            payment = process_coins()\n",
    "            if is_transaction_successful(payment, drink[\"cost\"]):\n",
    "                make_coffee(choice, drink[\"ingredients\"])\n",
    "    else:\n",
    "        print(\"Invalid choice. Please choose again.\")\n"
   ]
  },
  {
   "cell_type": "code",
   "execution_count": null,
   "id": "f986ce04",
   "metadata": {},
   "outputs": [],
   "source": []
  }
 ],
 "metadata": {
  "kernelspec": {
   "display_name": "Python 3 (ipykernel)",
   "language": "python",
   "name": "python3"
  },
  "language_info": {
   "codemirror_mode": {
    "name": "ipython",
    "version": 3
   },
   "file_extension": ".py",
   "mimetype": "text/x-python",
   "name": "python",
   "nbconvert_exporter": "python",
   "pygments_lexer": "ipython3",
   "version": "3.11.5"
  }
 },
 "nbformat": 4,
 "nbformat_minor": 5
}
