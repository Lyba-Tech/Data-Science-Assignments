{
 "cells": [
  {
   "cell_type": "markdown",
   "id": "dba222fc",
   "metadata": {},
   "source": [
    "# Assignment 3 Solution"
   ]
  },
  {
   "cell_type": "markdown",
   "id": "8f5ca95f",
   "metadata": {},
   "source": [
    "## Submitted by Laiba"
   ]
  },
  {
   "cell_type": "markdown",
   "id": "8a2eebec",
   "metadata": {},
   "source": [
    "## Lists"
   ]
  },
  {
   "cell_type": "markdown",
   "id": "7e7bc554",
   "metadata": {},
   "source": [
    "1. Create an empty list my_list"
   ]
  },
  {
   "cell_type": "code",
   "execution_count": 1,
   "id": "3bc8855e",
   "metadata": {},
   "outputs": [
    {
     "name": "stdout",
     "output_type": "stream",
     "text": [
      "Empty list: []\n"
     ]
    }
   ],
   "source": [
    "my_list = []\n",
    "print(\"Empty list:\", my_list)"
   ]
  },
  {
   "cell_type": "markdown",
   "id": "a6e46489",
   "metadata": {},
   "source": [
    "### 2. Append three elements to my_list using the append method"
   ]
  },
  {
   "cell_type": "code",
   "execution_count": 2,
   "id": "bc18daef",
   "metadata": {},
   "outputs": [
    {
     "name": "stdout",
     "output_type": "stream",
     "text": [
      "['apple', 'banana', 'mango']\n"
     ]
    }
   ],
   "source": [
    "my_list.append('apple')\n",
    "my_list.append('banana')\n",
    "my_list.append('mango')\n",
    "print(my_list)"
   ]
  },
  {
   "cell_type": "markdown",
   "id": "24ec1a5e",
   "metadata": {},
   "source": [
    "### 3. Insert an element at a specific position in my_list using the insert method"
   ]
  },
  {
   "cell_type": "code",
   "execution_count": 3,
   "id": "41ea46b3",
   "metadata": {},
   "outputs": [
    {
     "name": "stdout",
     "output_type": "stream",
     "text": [
      "['apple', 'grapes', 'banana', 'mango']\n"
     ]
    }
   ],
   "source": [
    "my_list.insert(1,\"grapes\") # Insert 'grapes' at index 1\n",
    "print(my_list)"
   ]
  },
  {
   "cell_type": "markdown",
   "id": "b78dc2a2",
   "metadata": {},
   "source": [
    "### 4. Remove an element from my_list using the remove method"
   ]
  },
  {
   "cell_type": "code",
   "execution_count": 4,
   "id": "1f3f999e",
   "metadata": {},
   "outputs": [],
   "source": [
    "my_list.remove(\"grapes\")   # Remove 'grapes' from the list"
   ]
  },
  {
   "cell_type": "markdown",
   "id": "9cdf10c2",
   "metadata": {},
   "source": [
    "### 5. Print the final state of my_list"
   ]
  },
  {
   "cell_type": "code",
   "execution_count": 5,
   "id": "5e3b25e2",
   "metadata": {},
   "outputs": [
    {
     "name": "stdout",
     "output_type": "stream",
     "text": [
      "['apple', 'banana', 'mango']\n"
     ]
    }
   ],
   "source": [
    "print(my_list)"
   ]
  },
  {
   "cell_type": "markdown",
   "id": "922794c9",
   "metadata": {},
   "source": [
    "## Q2. Tuples\n",
    "### 1. Create a tuple my_tuple with at least five elements"
   ]
  },
  {
   "cell_type": "code",
   "execution_count": 9,
   "id": "93553cae",
   "metadata": {},
   "outputs": [],
   "source": [
    "my_tuple = ('Laiba', 'Zakia' , 'Sabahat' , 'Aqsa' , 'Faiqa')"
   ]
  },
  {
   "cell_type": "markdown",
   "id": "d3b29e88",
   "metadata": {},
   "source": [
    "### 2. Use tuple unpacking to assign values to multiple variables"
   ]
  },
  {
   "cell_type": "code",
   "execution_count": 10,
   "id": "e8b84ac9",
   "metadata": {},
   "outputs": [
    {
     "name": "stdout",
     "output_type": "stream",
     "text": [
      "a: Laiba\n",
      "b: Zakia\n",
      "c: Sabahat\n",
      "d: Aqsa\n",
      "e: Faiqa\n"
     ]
    }
   ],
   "source": [
    "a, b, c, d, e = my_tuple\n",
    "# Print the values of the variables\n",
    "print(\"a:\", a)\n",
    "print(\"b:\", b)\n",
    "print(\"c:\", c)\n",
    "print(\"d:\", d)\n",
    "print(\"e:\", e)"
   ]
  },
  {
   "cell_type": "markdown",
   "id": "873d5947",
   "metadata": {},
   "source": [
    "### 3. Concatenate two tuples and print the result"
   ]
  },
  {
   "cell_type": "code",
   "execution_count": 12,
   "id": "a3fa8ce4",
   "metadata": {},
   "outputs": [
    {
     "name": "stdout",
     "output_type": "stream",
     "text": [
      "(1, 2, 3, 4, 5, 6)\n"
     ]
    }
   ],
   "source": [
    "# Define two tuples\n",
    "tuple1 = (1, 2, 3)\n",
    "tuple2 = (4, 5, 6)\n",
    "\n",
    "# Concatenate the tuple\n",
    "concatenated_tuple = tuple1 + tuple2\n",
    "print(concatenated_tuple)"
   ]
  },
  {
   "cell_type": "markdown",
   "id": "745bedd8",
   "metadata": {},
   "source": [
    "### 4. Access and print the elements of my_tuple using both positive and negative indexing"
   ]
  },
  {
   "cell_type": "code",
   "execution_count": 13,
   "id": "ae9d9d7b",
   "metadata": {},
   "outputs": [
    {
     "name": "stdout",
     "output_type": "stream",
     "text": [
      "Index 2: Laiba\n",
      "Index -3: Laiba\n"
     ]
    }
   ],
   "source": [
    "my_tuple = ('Sabahat' , 'Aqsa' , 'Laiba' , 'Faiqa' , 'Zakia')\n",
    "\n",
    "#Access and print \"Laiba\" using positive indexing \n",
    "print (\"Index 2:\" , my_tuple[2])\n",
    "\n",
    "#Access and print \"Laiba\" using negative indexing\n",
    "print (\"Index -3:\" , my_tuple[-3])"
   ]
  },
  {
   "cell_type": "markdown",
   "id": "89b982c9",
   "metadata": {},
   "source": [
    "### 5. Perform any operation that demonstrates that tuples are immutable"
   ]
  },
  {
   "cell_type": "code",
   "execution_count": 14,
   "id": "6d51a47d",
   "metadata": {},
   "outputs": [
    {
     "name": "stdout",
     "output_type": "stream",
     "text": [
      "Error: 'tuple' object does not support item assignment\n"
     ]
    }
   ],
   "source": [
    "my_tuple = (1, 2, 3, 4, 5)\n",
    "\n",
    "# Try to modify an element to tuple\n",
    "try:\n",
    "    my_tuple[0]=10 # Trying to change the first element\n",
    "except TypeError as e:\n",
    "    print (\"Error:\" , e)"
   ]
  },
  {
   "cell_type": "markdown",
   "id": "ce14e06d",
   "metadata": {},
   "source": [
    "# Question 3\n",
    "### Input and Output\n",
    "\n",
    "#### 1. Prompt the user to enter their name using input"
   ]
  },
  {
   "cell_type": "code",
   "execution_count": 16,
   "id": "023b0682",
   "metadata": {},
   "outputs": [
    {
     "name": "stdout",
     "output_type": "stream",
     "text": [
      " Enter your name: Laiba\n"
     ]
    }
   ],
   "source": [
    "name = input(\" Enter your name: \")"
   ]
  },
  {
   "cell_type": "markdown",
   "id": "a04ea867",
   "metadata": {},
   "source": [
    "### 2. Print a welcome message using the entered name"
   ]
  },
  {
   "cell_type": "code",
   "execution_count": 19,
   "id": "8ed62e50",
   "metadata": {},
   "outputs": [
    {
     "name": "stdout",
     "output_type": "stream",
     "text": [
      "Enter your name: Laiba\n",
      " Hello Welcome, Laiba!\n"
     ]
    }
   ],
   "source": [
    "name = input(\"Enter your name: \")\n",
    "print(f\" Hello Welcome, {name}!\")"
   ]
  },
  {
   "cell_type": "markdown",
   "id": "2be9b9e4",
   "metadata": {},
   "source": [
    "### 3. Ask the user to input two numbers, convert them to integers, and calculate their sum and product\n",
    "###  4. Display the results using formatted output"
   ]
  },
  {
   "cell_type": "code",
   "execution_count": 35,
   "id": "f1d656bb",
   "metadata": {},
   "outputs": [
    {
     "name": "stdout",
     "output_type": "stream",
     "text": [
      "Enter first number: 10\n",
      "Enter second number: 76\n",
      "Sum: 86\n",
      "product: 760\n"
     ]
    }
   ],
   "source": [
    "num1 = int(input(\"Enter first number: \"))\n",
    "num2 = int(input(\"Enter second number: \"))\n",
    "\n",
    "sum_result = num1 + num2\n",
    "print(f\"Sum: {sum_result}\")\n",
    "\n",
    "product_result = num1 * num2\n",
    "print(f\"product: {product_result}\")"
   ]
  },
  {
   "cell_type": "markdown",
   "id": "3615b827",
   "metadata": {},
   "source": [
    "# Question 4.\n",
    "## #Operators\n",
    "#### 1. Create a variable number and initialize it with an integer value"
   ]
  },
  {
   "cell_type": "code",
   "execution_count": 28,
   "id": "a397f6fb",
   "metadata": {},
   "outputs": [],
   "source": [
    "num = 15"
   ]
  },
  {
   "cell_type": "markdown",
   "id": "d1605eee",
   "metadata": {},
   "source": [
    "### 2. Use the modulus operator to check if the number is even or odd"
   ]
  },
  {
   "cell_type": "code",
   "execution_count": 30,
   "id": "14913e97",
   "metadata": {},
   "outputs": [
    {
     "name": "stdout",
     "output_type": "stream",
     "text": [
      "15 is odd\n"
     ]
    }
   ],
   "source": [
    "# Check if the number is even or odd using the modules operator\n",
    "if number % 2 == 0:\n",
    "    print(num, \"is even\")\n",
    "else:\n",
    "    print(num,  \"is odd\")"
   ]
  },
  {
   "cell_type": "markdown",
   "id": "64fbed45",
   "metadata": {},
   "source": [
    "### 3. Use a comparison operator to check if the number is greater than or equal to 10"
   ]
  },
  {
   "cell_type": "code",
   "execution_count": 31,
   "id": "4003c4ff",
   "metadata": {},
   "outputs": [
    {
     "name": "stdout",
     "output_type": "stream",
     "text": [
      "15 is greater than or equal to 10\n"
     ]
    }
   ],
   "source": [
    "#Check if the number is greater then or equal to 10\n",
    "if number >= 10:\n",
    "    print(num, \"is greater than or equal to 10\")\n",
    "else:\n",
    "    print(num, \"is less then 10\")\n"
   ]
  },
  {
   "cell_type": "markdown",
   "id": "34ead657",
   "metadata": {},
   "source": [
    "### 4. Combine logical operators to create a complex condition and print the result"
   ]
  },
  {
   "cell_type": "code",
   "execution_count": 32,
   "id": "e2c11ec9",
   "metadata": {},
   "outputs": [
    {
     "name": "stdout",
     "output_type": "stream",
     "text": [
      "15 does not satisfy the complex condition\n"
     ]
    }
   ],
   "source": [
    "if number % 2 == 0 and number >= 10:\n",
    "    print(num, \"satisfies the complex condition\")\n",
    "else:\n",
    "    print(num, \"does not satisfy the complex condition\")"
   ]
  },
  {
   "cell_type": "code",
   "execution_count": null,
   "id": "9771e37f",
   "metadata": {},
   "outputs": [],
   "source": []
  }
 ],
 "metadata": {
  "kernelspec": {
   "display_name": "Python 3 (ipykernel)",
   "language": "python",
   "name": "python3"
  },
  "language_info": {
   "codemirror_mode": {
    "name": "ipython",
    "version": 3
   },
   "file_extension": ".py",
   "mimetype": "text/x-python",
   "name": "python",
   "nbconvert_exporter": "python",
   "pygments_lexer": "ipython3",
   "version": "3.11.5"
  }
 },
 "nbformat": 4,
 "nbformat_minor": 5
}
