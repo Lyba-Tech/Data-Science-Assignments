{
 "cells": [
  {
   "cell_type": "markdown",
   "id": "9701b061",
   "metadata": {},
   "source": [
    "# Assignment 4 Solution\n",
    "## Question 1\n",
    "### Lists\n",
    "a) Create an empty list and populate it with integers."
   ]
  },
  {
   "cell_type": "code",
   "execution_count": 1,
   "id": "a030832d",
   "metadata": {},
   "outputs": [],
   "source": [
    "int_list = [5, 3, 8, 1, 9]"
   ]
  },
  {
   "cell_type": "markdown",
   "id": "f106a5cb",
   "metadata": {},
   "source": [
    "### b) Perform the following operations on list :\n",
    "1. Add an element at the beginning and end of the list."
   ]
  },
  {
   "cell_type": "code",
   "execution_count": 3,
   "id": "072765a7",
   "metadata": {},
   "outputs": [
    {
     "name": "stdout",
     "output_type": "stream",
     "text": [
      "[10, 10, 5, 3, 8, 1, 9, 15, 15]\n"
     ]
    }
   ],
   "source": [
    "int_list.insert(0, 10)  # Adding element at the beginning\n",
    "int_list.append(15)     # Adding element at the end\n",
    "\n",
    "print(int_list)"
   ]
  },
  {
   "cell_type": "markdown",
   "id": "5bc01fb5",
   "metadata": {},
   "source": [
    "2. Remove an element from the list by its value."
   ]
  },
  {
   "cell_type": "code",
   "execution_count": 4,
   "id": "dddbd6e7",
   "metadata": {},
   "outputs": [
    {
     "name": "stdout",
     "output_type": "stream",
     "text": [
      "[10, 10, 5, 3, 1, 9, 15, 15]\n"
     ]
    }
   ],
   "source": [
    "int_list.remove(8)  # Removing the element '8'\n",
    "print(int_list)"
   ]
  },
  {
   "cell_type": "markdown",
   "id": "fdd3b069",
   "metadata": {},
   "source": [
    "3. Sort the list in ascending order."
   ]
  },
  {
   "cell_type": "code",
   "execution_count": 5,
   "id": "0941cb91",
   "metadata": {},
   "outputs": [
    {
     "name": "stdout",
     "output_type": "stream",
     "text": [
      "[1, 3, 5, 9, 10, 10, 15, 15]\n"
     ]
    }
   ],
   "source": [
    "#sort the list in ascending order\n",
    "int_list.sort()\n",
    "print(int_list)"
   ]
  },
  {
   "cell_type": "markdown",
   "id": "3349f022",
   "metadata": {},
   "source": [
    " 4. Check if a specific element exists in the list."
   ]
  },
  {
   "cell_type": "code",
   "execution_count": 7,
   "id": "5795607f",
   "metadata": {},
   "outputs": [
    {
     "name": "stdout",
     "output_type": "stream",
     "text": [
      "Yes 5 exists\n"
     ]
    }
   ],
   "source": [
    "check_int = 5\n",
    "if check_int in int_list:\n",
    "    print(f\"Yes {check_int} exists\")\n",
    "else:\n",
    "    print (\"not exists\")"
   ]
  },
  {
   "cell_type": "markdown",
   "id": "4c8bb5c6",
   "metadata": {},
   "source": [
    "5. Display the final list after each operation."
   ]
  },
  {
   "cell_type": "code",
   "execution_count": 8,
   "id": "79e7e6b9",
   "metadata": {},
   "outputs": [
    {
     "name": "stdout",
     "output_type": "stream",
     "text": [
      "[1, 3, 5, 9, 10, 10, 15, 15]\n"
     ]
    }
   ],
   "source": [
    "print(int_list)"
   ]
  },
  {
   "cell_type": "markdown",
   "id": "4b3a3151",
   "metadata": {},
   "source": [
    "# Question 2\n",
    "## Tuple\n",
    "#### a) Create a tuple of your favorite foods."
   ]
  },
  {
   "cell_type": "code",
   "execution_count": 1,
   "id": "414f23af",
   "metadata": {},
   "outputs": [
    {
     "name": "stdout",
     "output_type": "stream",
     "text": [
      "('Pizza', 'Burger', 'Biryani', 'Pasta', 'Ice Cream')\n"
     ]
    }
   ],
   "source": [
    "favorite_foods = (\"Pizza\", \"Burger\", \"Biryani\", \"Pasta\", \"Ice Cream\")\n",
    "print( favorite_foods)"
   ]
  },
  {
   "cell_type": "markdown",
   "id": "aa1ba958",
   "metadata": {},
   "source": [
    "#### b) Access and print the elements of the tuple."
   ]
  },
  {
   "cell_type": "code",
   "execution_count": 2,
   "id": "b3a24d0c",
   "metadata": {},
   "outputs": [
    {
     "name": "stdout",
     "output_type": "stream",
     "text": [
      "Pizza\n",
      "Burger\n",
      "Biryani\n",
      "Pasta\n",
      "Ice Cream\n"
     ]
    }
   ],
   "source": [
    "for food in favorite_foods:\n",
    "    print (food)"
   ]
  },
  {
   "cell_type": "markdown",
   "id": "8ecd0a04",
   "metadata": {},
   "source": [
    "#### c) Convert the tuple to a list and modify one of the elements.\n"
   ]
  },
  {
   "cell_type": "code",
   "execution_count": 4,
   "id": "8c0169c3",
   "metadata": {},
   "outputs": [
    {
     "name": "stdout",
     "output_type": "stream",
     "text": [
      "['Pizza', 'Burger', 'Salad', 'Pasta', 'Ice Cream']\n"
     ]
    }
   ],
   "source": [
    "#covert the tuple to list\n",
    "foods_list = list(favorite_foods)\n",
    "\n",
    "foods_list[2] = \"Salad\"  # Changing \"Biryani\" to \"Salad\"\n",
    "print(foods_list)"
   ]
  },
  {
   "cell_type": "markdown",
   "id": "8c36ae61",
   "metadata": {},
   "source": [
    "####  d) Convert the modified list back to a tuple."
   ]
  },
  {
   "cell_type": "code",
   "execution_count": 5,
   "id": "1a89fd3d",
   "metadata": {},
   "outputs": [],
   "source": [
    "modified_foods_tuple = tuple(foods_list)"
   ]
  },
  {
   "cell_type": "markdown",
   "id": "b6e09574",
   "metadata": {},
   "source": [
    "#### e) Display the final tuple."
   ]
  },
  {
   "cell_type": "code",
   "execution_count": 6,
   "id": "a980e06e",
   "metadata": {},
   "outputs": [
    {
     "name": "stdout",
     "output_type": "stream",
     "text": [
      "('Pizza', 'Burger', 'Salad', 'Pasta', 'Ice Cream')\n"
     ]
    }
   ],
   "source": [
    "print(modified_foods_tuple)"
   ]
  },
  {
   "cell_type": "markdown",
   "id": "8ca71539",
   "metadata": {},
   "source": [
    "## Question 3\n",
    "### Sets\n",
    "#### a) Create two sets containing random integers"
   ]
  },
  {
   "cell_type": "code",
   "execution_count": 8,
   "id": "8a436aca",
   "metadata": {},
   "outputs": [
    {
     "name": "stdout",
     "output_type": "stream",
     "text": [
      "Set 1 : {1, 2, 3, 4, 5}\n",
      "Set 2 : {4, 5, 6, 7, 8}\n"
     ]
    }
   ],
   "source": [
    "# Set one\n",
    "set1 = {1, 2, 3, 4, 5}\n",
    "\n",
    "# Set two\n",
    "set2 = {4, 5, 6, 7, 8}\n",
    "\n",
    "print(\"Set 1 :\" , set1)\n",
    "print(\"Set 2 :\" , set2)"
   ]
  },
  {
   "cell_type": "markdown",
   "id": "739e5195",
   "metadata": {},
   "source": [
    "#### b) Perform set operations on the sets, including union, intersection, and difference."
   ]
  },
  {
   "cell_type": "code",
   "execution_count": 10,
   "id": "e7c6ef89",
   "metadata": {},
   "outputs": [
    {
     "name": "stdout",
     "output_type": "stream",
     "text": [
      "Set 1 : {1, 2, 3, 4, 5}\n",
      "Set 2 : {4, 5, 6, 7, 8}\n",
      " \n",
      "union of set1 and set2 : {1, 2, 3, 4, 5, 6, 7, 8}\n",
      "Intersection of set1 and set2: {4, 5}\n",
      "set difference of set1 - set2: {1, 2, 3}\n"
     ]
    }
   ],
   "source": [
    "# Perform set operations\n",
    "union_set = set1.union(set2)                   #union of set1 and set2\n",
    "intersection_set = set1.intersection(set2)     #Intersection of set1 and set2\n",
    "difference_set = set1.difference(set2)         #set difference of set1 - set2\n",
    "\n",
    "#print the results\n",
    "print(\"Set 1 :\", set1)\n",
    "print(\"Set 2 :\", set2)\n",
    "print(\" \")\n",
    "print(\"union of set1 and set2 :\", union_set)\n",
    "print(\"Intersection of set1 and set2:\", intersection_set)\n",
    "print(\"set difference of set1 - set2:\", difference_set)"
   ]
  },
  {
   "cell_type": "markdown",
   "id": "0dd16304",
   "metadata": {},
   "source": [
    "####  c) Determine if one set is a subset or superset of the other."
   ]
  },
  {
   "cell_type": "code",
   "execution_count": 12,
   "id": "554739df",
   "metadata": {},
   "outputs": [
    {
     "name": "stdout",
     "output_type": "stream",
     "text": [
      "Set 1 is not a subset of Set 2\n",
      "Set 1 is not a superset of Set 2\n"
     ]
    }
   ],
   "source": [
    "#check if set1 is a subset of set2\n",
    "is_subset = set1.issubset(set2)\n",
    "\n",
    "#check if set1 is a superset of set2\n",
    "is_superset = set1.issuperset(set2)\n",
    "\n",
    "#print the result\n",
    "if is_subset:\n",
    "    print(\"Set 1 is subset of Set 2\")\n",
    "else:\n",
    "    print(\"Set 1 is not a subset of Set 2\")\n",
    "if is_superset:\n",
    "    print(\"Set 1 is superset of Set 2\")\n",
    "else:\n",
    "    print(\"Set 1 is not a superset of Set 2\")"
   ]
  },
  {
   "cell_type": "markdown",
   "id": "c3ee784b",
   "metadata": {},
   "source": [
    "## Question 4\n",
    "### Dictionaries\n",
    "#### a) Create a dictionary with keys representing fruits and values representing their prices"
   ]
  },
  {
   "cell_type": "code",
   "execution_count": 14,
   "id": "5de9a945",
   "metadata": {},
   "outputs": [
    {
     "name": "stdout",
     "output_type": "stream",
     "text": [
      "{'apple': 100, 'banana': 50, 'grape': 200, 'orange': 700, 'mango': 400}\n"
     ]
    }
   ],
   "source": [
    "fruits_dict = {\n",
    "    \"apple\": 100, \n",
    "    \"banana\": 50, \n",
    "    \"grape\": 200,\n",
    "    \"orange\":700,\n",
    "    \"mango\" :400,\n",
    "}\n",
    "print(fruits_dict)"
   ]
  },
  {
   "cell_type": "markdown",
   "id": "6c764cc1",
   "metadata": {},
   "source": [
    " #### b) Add new key-value pairs to the dictionary."
   ]
  },
  {
   "cell_type": "code",
   "execution_count": 15,
   "id": "47da7e68",
   "metadata": {},
   "outputs": [
    {
     "name": "stdout",
     "output_type": "stream",
     "text": [
      "{'apple': 100, 'banana': 50, 'grape': 200, 'orange': 120, 'mango': 400, 'kiwi': 90}\n"
     ]
    }
   ],
   "source": [
    "# add new key-value pairs to the dictionary.\n",
    "fruits_dict[\"orange\"] = 120\n",
    "fruits_dict[\"kiwi\"] = 90\n",
    "\n",
    "#print updated dictionary\n",
    "print(fruits_dict)\n"
   ]
  },
  {
   "cell_type": "markdown",
   "id": "aa33d6c7",
   "metadata": {},
   "source": [
    "#### c) Access and print the value of a specific key."
   ]
  },
  {
   "cell_type": "code",
   "execution_count": 17,
   "id": "055dde2b",
   "metadata": {},
   "outputs": [
    {
     "name": "stdout",
     "output_type": "stream",
     "text": [
      "400\n"
     ]
    }
   ],
   "source": [
    "print(fruits_dict['mango'])"
   ]
  },
  {
   "cell_type": "markdown",
   "id": "cd0e462e",
   "metadata": {},
   "source": [
    "#### d) Modify the value of an existing key."
   ]
  },
  {
   "cell_type": "code",
   "execution_count": 19,
   "id": "b5e7572a",
   "metadata": {},
   "outputs": [
    {
     "name": "stdout",
     "output_type": "stream",
     "text": [
      "{'apple': 150, 'banana': 50, 'grape': 200, 'orange': 120, 'mango': 400, 'kiwi': 90}\n"
     ]
    }
   ],
   "source": [
    "#Modify the value of an existing key.\n",
    "fruits_dict[\"apple\"] = 150\n",
    "\n",
    "#print updated dictionary\n",
    "print(fruits_dict)"
   ]
  },
  {
   "cell_type": "markdown",
   "id": "26850f7b",
   "metadata": {},
   "source": [
    "#### e) Delete a key-value pair from the dictionary."
   ]
  },
  {
   "cell_type": "code",
   "execution_count": 20,
   "id": "70f44bf0",
   "metadata": {},
   "outputs": [
    {
     "name": "stdout",
     "output_type": "stream",
     "text": [
      "{'apple': 150, 'banana': 50, 'grape': 200, 'orange': 120, 'mango': 400}\n"
     ]
    }
   ],
   "source": [
    "del fruits_dict[\"kiwi\"]\n",
    "print(fruits_dict)"
   ]
  },
  {
   "cell_type": "markdown",
   "id": "568b4d92",
   "metadata": {},
   "source": [
    "#### f) Display the final dictionary after each operation."
   ]
  },
  {
   "cell_type": "code",
   "execution_count": 21,
   "id": "aa332916",
   "metadata": {},
   "outputs": [
    {
     "name": "stdout",
     "output_type": "stream",
     "text": [
      "{'apple': 150, 'banana': 50, 'grape': 200, 'orange': 120, 'mango': 400}\n"
     ]
    }
   ],
   "source": [
    "print(fruits_dict)"
   ]
  },
  {
   "cell_type": "markdown",
   "id": "19799c92",
   "metadata": {},
   "source": [
    "# Question 5\n",
    "You are given a dataset containing information about employees in\n",
    "a company. The dataset includes the following fields for each\n",
    "employee: employee ID (integer), name (string), department (string),\n",
    "and salary (float).\n",
    "#### using python data structure\n",
    " a) Create a list called \"employees\" and populate it with three employee records."
   ]
  },
  {
   "cell_type": "code",
   "execution_count": 27,
   "id": "c91de382",
   "metadata": {},
   "outputs": [],
   "source": [
    "employees = [\n",
    "    {\"employee_id\": 1, \"name\": \"Laiba\", \"department\": \"Data scientist\", \"salary\": 50000.0},\n",
    "    {\"employee_id\": 2, \"name\": \"saba\", \"department\": \"Software Engineer\", \"salary\": 70000.0},\n",
    "    {\"employee_id\": 3, \"name\": \"Zakia\", \"department\": \"Finance\", \"salary\": 60000.0}\n",
    "]"
   ]
  },
  {
   "cell_type": "markdown",
   "id": "73a6b6ee",
   "metadata": {},
   "source": [
    "#### b) Calculate the average salary of all employees and print the result."
   ]
  },
  {
   "cell_type": "code",
   "execution_count": 25,
   "id": "d4d90d70",
   "metadata": {},
   "outputs": [
    {
     "name": "stdout",
     "output_type": "stream",
     "text": [
      "average salary of employees: 60000.0\n"
     ]
    }
   ],
   "source": [
    "#Calculate the average salary of all employees and print the result.\n",
    "total_salary = sum(employee[\"salary\"] for employee in employees)\n",
    "average_salary = total_salary / len(employees)\n",
    "print(\"average salary of employees:\", average_salary)"
   ]
  },
  {
   "cell_type": "markdown",
   "id": "ae480766",
   "metadata": {},
   "source": [
    "#### c) Convert the list of employees into a set called \"unique_departments\" to obtain unique department names."
   ]
  },
  {
   "cell_type": "code",
   "execution_count": 28,
   "id": "dd898ea7",
   "metadata": {},
   "outputs": [
    {
     "name": "stdout",
     "output_type": "stream",
     "text": [
      "unique departments: {'Data scientist', 'Software Engineer', 'Finance'}\n"
     ]
    }
   ],
   "source": [
    "unique_departments = {employee[\"department\"] for employee in employees}\n",
    "print(\"unique departments:\", unique_departments)"
   ]
  },
  {
   "cell_type": "markdown",
   "id": "aa0877d7",
   "metadata": {},
   "source": [
    "#### d) Create a tuple called \"highest_paid_employee\" with the details of the employee with the highest salary."
   ]
  },
  {
   "cell_type": "code",
   "execution_count": 32,
   "id": "c8c3f729",
   "metadata": {},
   "outputs": [
    {
     "name": "stdout",
     "output_type": "stream",
     "text": [
      "highest_paid_employee : {'employee_id': 2, 'name': 'saba', 'department': 'Software Engineer', 'salary': 70000.0}\n"
     ]
    }
   ],
   "source": [
    "highest_paid_employee = max(employees, key=lambda x: x[\"salary\"])\n",
    "print(\"highest_paid_employee :\", highest_paid_employee)\n"
   ]
  },
  {
   "cell_type": "markdown",
   "id": "5d745887",
   "metadata": {},
   "source": [
    "#### e) Display the final \"employees\" list, \"unique_departments\" set, and \"highest_paid_employee\" tuple."
   ]
  },
  {
   "cell_type": "code",
   "execution_count": 40,
   "id": "feb744cc",
   "metadata": {},
   "outputs": [
    {
     "name": "stdout",
     "output_type": "stream",
     "text": [
      "{'employee_id': 1, 'name': 'Laiba', 'department': 'Data scientist', 'salary': 50000.0}\n",
      "{'employee_id': 2, 'name': 'saba', 'department': 'Software Engineer', 'salary': 70000.0}\n",
      "{'employee_id': 3, 'name': 'Zakia', 'department': 'Finance', 'salary': 60000.0}\n",
      "\n",
      "Final unique_departments set: {'Data scientist', 'Software Engineer', 'Finance'}\n",
      "\n",
      "Final highest_paid_employee: {'employee_id': 2, 'name': 'saba', 'department': 'Software Engineer', 'salary': 70000.0}\n"
     ]
    }
   ],
   "source": [
    "for employee in employees:\n",
    "    print(employee)\n",
    "\n",
    "print(\"\\nFinal unique_departments set:\", unique_departments)\n",
    "print(\"\\nFinal highest_paid_employee:\", highest_paid_employee)"
   ]
  }
 ],
 "metadata": {
  "kernelspec": {
   "display_name": "Python 3 (ipykernel)",
   "language": "python",
   "name": "python3"
  },
  "language_info": {
   "codemirror_mode": {
    "name": "ipython",
    "version": 3
   },
   "file_extension": ".py",
   "mimetype": "text/x-python",
   "name": "python",
   "nbconvert_exporter": "python",
   "pygments_lexer": "ipython3",
   "version": "3.11.5"
  }
 },
 "nbformat": 4,
 "nbformat_minor": 5
}
